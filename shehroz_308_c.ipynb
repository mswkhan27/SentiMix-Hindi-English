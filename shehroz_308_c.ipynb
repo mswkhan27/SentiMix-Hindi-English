{
  "nbformat": 4,
  "nbformat_minor": 0,
  "metadata": {
    "colab": {
      "name": "i170308 AI PROJECT NLP.ipynb",
      "provenance": [],
      "collapsed_sections": []
    },
    "kernelspec": {
      "name": "python3",
      "display_name": "Python 3"
    }
  },
  "cells": [
    {
      "cell_type": "code",
      "metadata": {
        "id": "FLfx0mb5vWaZ"
      },
      "source": [
        "import numpy as np \r\n",
        "import pandas as pd \r\n",
        "import re\r\n",
        "import matplotlib.pyplot as plt\r\n",
        "import seaborn as sns\r\n",
        "from scipy.stats import chi2_contingency\r\n",
        "\r\n",
        "from sklearn.model_selection import train_test_split\r\n",
        "from sklearn.model_selection import cross_val_score\r\n",
        "from sklearn.model_selection import GridSearchCV\r\n",
        "from sklearn.ensemble import RandomForestClassifier\r\n",
        "from sklearn.metrics import accuracy_score\r\n",
        "from sklearn.svm import SVC\r\n",
        "from sklearn.feature_extraction.text import CountVectorizer\r\n",
        "\r\n",
        "from subprocess import check_output"
      ],
      "execution_count": 1,
      "outputs": []
    },
    {
      "cell_type": "code",
      "metadata": {
        "colab": {
          "base_uri": "https://localhost:8080/"
        },
        "id": "D7-l0NZAv6p3",
        "outputId": "7d25dd9e-e91c-4434-ce00-a8db3db16cae"
      },
      "source": [
        "from google.colab import drive\r\n",
        "drive.mount('/content/drive')"
      ],
      "execution_count": 2,
      "outputs": [
        {
          "output_type": "stream",
          "text": [
            "Drive already mounted at /content/drive; to attempt to forcibly remount, call drive.mount(\"/content/drive\", force_remount=True).\n"
          ],
          "name": "stdout"
        }
      ]
    },
    {
      "cell_type": "code",
      "metadata": {
        "id": "kS5j1CamwF0F"
      },
      "source": [
        "def readandSplit(filename):\r\n",
        "  with open(filename) as f:\r\n",
        "        data = f.read().split('\\n')\r\n",
        "  tweets = []\r\n",
        "  label = []   \r\n",
        "  tweet = \"\"\r\n",
        "\r\n",
        "\r\n",
        "  for d in data:\r\n",
        "      if(len(d)==0):\r\n",
        "          continue\r\n",
        "      elif(len(d.split())==3):\r\n",
        "          label.append(d.split()[2])\r\n",
        "          if(tweet):\r\n",
        "              tweets.append(tweet)\r\n",
        "              tweet = \"\"\r\n",
        "      elif(len(d.split())==2):\r\n",
        "              tweet += d.split()[0]+' ' \r\n",
        "\r\n",
        "  tweets.append(tweet)\r\n",
        "\r\n",
        "  return label,tweets"
      ],
      "execution_count": 3,
      "outputs": []
    },
    {
      "cell_type": "code",
      "metadata": {
        "id": "Ea5pc509AF7m"
      },
      "source": [
        ""
      ],
      "execution_count": 3,
      "outputs": []
    },
    {
      "cell_type": "code",
      "metadata": {
        "id": "iPUujq8xwKcd"
      },
      "source": [
        "def readInList(filename):\r\n",
        "  with open(filename) as f:\r\n",
        "        data = f.read().split('\\n')\r\n",
        "  tweets = []\r\n",
        "  label = []   \r\n",
        "  tweet = \"\"\r\n",
        "\r\n",
        "\r\n",
        "  for d in data:\r\n",
        "    if(len(d)==0):\r\n",
        "      continue\r\n",
        "    elif(d.split()[0]=='meta'):\r\n",
        "      if(tweet):\r\n",
        "        tweets.append(tweet)\r\n",
        "        tweet = \"\"\r\n",
        "  \r\n",
        "    elif(len(d.split())==2):\r\n",
        "                tweet += d.split()[0]+' ' \r\n",
        "\r\n",
        "  tweets.append(tweet)\r\n",
        "      \r\n",
        "  return tweets"
      ],
      "execution_count": 4,
      "outputs": []
    },
    {
      "cell_type": "code",
      "metadata": {
        "id": "OHCJAW4BwNpm"
      },
      "source": [
        "label,trainData= readandSplit(\"/content/drive/MyDrive/Dataset/Train/train_14k_split_conll.txt\")\r\n"
      ],
      "execution_count": 5,
      "outputs": []
    },
    {
      "cell_type": "code",
      "metadata": {
        "colab": {
          "base_uri": "https://localhost:8080/",
          "height": 350
        },
        "id": "Gqa0-FNnUWw8",
        "outputId": "3872ba38-4486-458a-cdc1-74d4d158b092"
      },
      "source": [
        "sizeTweets=[]\r\n",
        "tweetNumber=[]\r\n",
        "for i in range(len(trainData)):\r\n",
        "  sizeTweets.append(len(trainData[i]))\r\n",
        "  tweetNumber.append(\"Tweet\"+str(i+1))\r\n",
        "\r\n",
        "fig = plt.figure(figsize = (10, 5)) \r\n",
        "  \r\n",
        "# creating the bar plot \r\n",
        "plt.bar(tweetNumber, sizeTweets, color ='maroon',  \r\n",
        "        width = 0.4) \r\n",
        "  \r\n",
        "plt.xlabel(\"Tweets\") \r\n",
        "plt.ylabel(\"Length of Tweets\") \r\n",
        "plt.title(\"Tweets Lengths\") \r\n",
        "plt.show() "
      ],
      "execution_count": 12,
      "outputs": [
        {
          "output_type": "display_data",
          "data": {
            "image/png": "[encoded data removed]",
            "text/plain": [
              "<Figure size 720x360 with 1 Axes>"
            ]
          },
          "metadata": {
            "tags": [],
            "needs_background": "light"
          }
        }
      ]
    },
    {
      "cell_type": "code",
      "metadata": {
        "id": "XwMWmJnQUV7X"
      },
      "source": [
        "vallebl,valData= readandSplit(\"/content/drive/MyDrive/Dataset/Validation/dev_3k_split_conll.txt\")\r\n",
        "\r\n",
        "trainData+=valData\r\n",
        "label+=vallebl"
      ],
      "execution_count": 13,
      "outputs": []
    },
    {
      "cell_type": "code",
      "metadata": {
        "id": "1dB7S-tTwgks"
      },
      "source": [
        "vectorizer = CountVectorizer(min_df=1)\r\n",
        "X = vectorizer.fit_transform(trainData).toarray()"
      ],
      "execution_count": 14,
      "outputs": []
    },
    {
      "cell_type": "code",
      "metadata": {
        "id": "FCQyl_Qdw3Mk",
        "colab": {
          "base_uri": "https://localhost:8080/"
        },
        "outputId": "b778d0cf-91e7-4248-a358-f2dd890bfcc7"
      },
      "source": [
        "rfc1=RandomForestClassifier(bootstrap=True, ccp_alpha=0.0, class_weight=None,\r\n",
        "                       criterion='gini', max_depth=None, max_features='auto',\r\n",
        "                       max_leaf_nodes=None, max_samples=None,\r\n",
        "                       min_impurity_decrease=0.0, min_impurity_split=None,\r\n",
        "                       min_samples_leaf=1, min_samples_split=2,\r\n",
        "                       min_weight_fraction_leaf=0.0, n_estimators=100,\r\n",
        "                       n_jobs=None, oob_score=False, random_state=42,\r\n",
        "                       verbose=0, warm_start=False)\r\n",
        "rfc1.fit(X, label)"
      ],
      "execution_count": 15,
      "outputs": [
        {
          "output_type": "execute_result",
          "data": {
            "text/plain": [
              "RandomForestClassifier(bootstrap=True, ccp_alpha=0.0, class_weight=None,\n",
              "                       criterion='gini', max_depth=None, max_features='auto',\n",
              "                       max_leaf_nodes=None, max_samples=None,\n",
              "                       min_impurity_decrease=0.0, min_impurity_split=None,\n",
              "                       min_samples_leaf=1, min_samples_split=2,\n",
              "                       min_weight_fraction_leaf=0.0, n_estimators=100,\n",
              "                       n_jobs=None, oob_score=False, random_state=42, verbose=0,\n",
              "                       warm_start=False)"
            ]
          },
          "metadata": {
            "tags": []
          },
          "execution_count": 15
        }
      ]
    },
    {
      "cell_type": "code",
      "metadata": {
        "id": "WjffkxZX1-NB"
      },
      "source": [
        "testData=readInList(\"/content/drive/MyDrive/Dataset/Test/Hindi_test_unalbelled_conll_updated.txt\")"
      ],
      "execution_count": 16,
      "outputs": []
    },
    {
      "cell_type": "code",
      "metadata": {
        "id": "ybRdgb2U2WRy"
      },
      "source": [
        "list1=[]\r\n",
        "for i in range(len(testData)):\r\n",
        "  testData[i]\r\n",
        "  list1.append(testData[i])\r\n",
        "  list1\r\n",
        "\r\n",
        "p=rfc1.predict(vectorizer.transform(list1).toarray())"
      ],
      "execution_count": 17,
      "outputs": []
    },
    {
      "cell_type": "code",
      "metadata": {
        "id": "pM1MrwBFIhf0"
      },
      "source": [
        "p=list(p)"
      ],
      "execution_count": 18,
      "outputs": []
    },
    {
      "cell_type": "code",
      "metadata": {
        "id": "j77lGOafH_cx"
      },
      "source": [
        "#Taking out Uids\r\n",
        "with open(\"/content/drive/MyDrive/Dataset/Test/Hindi_test_unalbelled_conll_updated.txt\") as f:\r\n",
        "      data = f.read().split('\\n')\r\n",
        "\r\n",
        "uids = []   \r\n",
        "tweet = \"\"\r\n",
        "\r\n",
        "\r\n",
        "for d in data:\r\n",
        "  if(len(d)==0):\r\n",
        "    continue\r\n",
        "  elif(d.split()[0]=='meta'):\r\n",
        "    uids.append(d.split()[1])\r\n",
        " \r\n",
        "\r\n"
      ],
      "execution_count": 19,
      "outputs": []
    },
    {
      "cell_type": "code",
      "metadata": {
        "id": "bh30WBvuLyko"
      },
      "source": [
        "#ORIGINAL TEST LABELS\r\n",
        "\r\n",
        "with open(\"/content/drive/MyDrive/Dataset/Test/test_labels_hinglish.txt\") as f:\r\n",
        "      data = f.read().split('\\n')\r\n",
        "\r\n",
        "intermediateLabels= []   \r\n",
        "tweet = \"\"\r\n",
        "\r\n",
        "i=0\r\n",
        "\r\n",
        "for i in range(len(data)):\r\n",
        "\r\n",
        "  for j in range(len(data[i])):\r\n",
        "    if(data[i][j]==','  ):\r\n",
        "      intermediateLabels.append(data[i][j+1:])\r\n",
        "\r\n",
        "testLabels=[]\r\n",
        "\r\n",
        "for i in range(len(intermediateLabels)-1):\r\n",
        "  testLabels.append(intermediateLabels[i+1])\r\n",
        "\r\n",
        "\r\n",
        "\r\n"
      ],
      "execution_count": 20,
      "outputs": []
    },
    {
      "cell_type": "code",
      "metadata": {
        "colab": {
          "base_uri": "https://localhost:8080/"
        },
        "id": "S7ami-BxWbS1",
        "outputId": "742d48d9-37f6-48dd-8af3-00d0eb4d1c7d"
      },
      "source": [
        "from sklearn.metrics import accuracy_score\r\n",
        "\r\n",
        "accuracy_score(testLabels, p)"
      ],
      "execution_count": 21,
      "outputs": [
        {
          "output_type": "execute_result",
          "data": {
            "text/plain": [
              "0.6456666666666667"
            ]
          },
          "metadata": {
            "tags": []
          },
          "execution_count": 21
        }
      ]
    },
    {
      "cell_type": "code",
      "metadata": {
        "colab": {
          "base_uri": "https://localhost:8080/"
        },
        "id": "p0nAbJscGm-S",
        "outputId": "8772a68a-b31e-4079-aa47-8d3dc1bb7120"
      },
      "source": [
        "\r\n",
        "\r\n",
        "print(len(p))\r\n",
        "count=0\r\n",
        "store1 = []\r\n",
        "for i in range(0, len(uids)):\r\n",
        "    save = \"\"\r\n",
        "    res = p[i]\r\n",
        "\r\n",
        "    if (res == \"positive\"):\r\n",
        "        save += uids[i]\r\n",
        "        save += \",positive\\n\"\r\n",
        "        count+=1\r\n",
        "\r\n",
        "    elif (res == \"neutral\"):\r\n",
        "        save +=uids[i]\r\n",
        "        save += \",neutral\\n\"\r\n",
        "        count+=1\r\n",
        "\r\n",
        "    elif (res == \"negative\"):\r\n",
        "        save += uids[i]\r\n",
        "        save += \",negative\\n\"\r\n",
        "        count+=1\r\n",
        "    else:\r\n",
        "        print(uids[i])\r\n",
        "\r\n",
        "    store1.append(save)\r\n",
        "\r\n",
        "\r\n",
        "\r\n",
        "with open('answer.txt','w',encoding='utf-8') as file:\r\n",
        "    i=0\r\n",
        "    while (i<len(store1)):\r\n",
        "        file.write(store1[i])\r\n",
        "        i+=1"
      ],
      "execution_count": 22,
      "outputs": [
        {
          "output_type": "stream",
          "text": [
            "3000\n"
          ],
          "name": "stdout"
        }
      ]
    },
    {
      "cell_type": "code",
      "metadata": {
        "colab": {
          "base_uri": "https://localhost:8080/",
          "height": 350
        },
        "id": "s-A2ixYOS7Ah",
        "outputId": "4908f921-2bda-4406-8379-24d19dc674fb"
      },
      "source": [
        "sizeTweets=[]\r\n",
        "tweetNumber=[]\r\n",
        "for i in range(len(testData[:10])):\r\n",
        "  sizeTweets.append(len(testData[i]))\r\n",
        "  tweetNumber.append(\"Tweet\"+str(i+1))\r\n",
        "\r\n",
        "fig = plt.figure(figsize = (10, 5)) \r\n",
        "  \r\n",
        "# creating the bar plot \r\n",
        "plt.bar(tweetNumber, sizeTweets, color ='green',  \r\n",
        "        width = 0.4) \r\n",
        "  \r\n",
        "plt.xlabel(\"Test Tweets\") \r\n",
        "plt.ylabel(\"Length of Tweets\") \r\n",
        "plt.title(\"Tweets Lengths\") \r\n",
        "plt.show() "
      ],
      "execution_count": 28,
      "outputs": [
        {
          "output_type": "display_data",
          "data": {
            "image/png": "[encoded data removed]",
            "text/plain": [
              "<Figure size 720x360 with 1 Axes>"
            ]
          },
          "metadata": {
            "tags": [],
            "needs_background": "light"
          }
        }
      ]
    }
  ]
}